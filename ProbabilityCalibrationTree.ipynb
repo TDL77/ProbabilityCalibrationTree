{
 "cells": [
  {
   "cell_type": "markdown",
   "id": "82803676",
   "metadata": {},
   "source": [
    "Пример применения дерева калибровки вероятности для задачи классификации при высоком дисбалансе классов."
   ]
  },
  {
   "cell_type": "markdown",
   "id": "d4b6ce81",
   "metadata": {},
   "source": [
    "Посмотрим как дерево повышает точность прогноза и уменьшает ошибку калибровки вероятностей - ece (expected calibration error)"
   ]
  },
  {
   "cell_type": "code",
   "execution_count": 17,
   "id": "97f8323d",
   "metadata": {},
   "outputs": [],
   "source": [
    "from sklearn.model_selection import train_test_split\n",
    "from sklearn.linear_model import LogisticRegression\n",
    "from sklearn.tree import DecisionTreeClassifier\n",
    "from sklearn.neighbors import KNeighborsClassifier\n",
    "from sklearn import datasets"
   ]
  },
  {
   "cell_type": "code",
   "execution_count": 18,
   "id": "a38488ae",
   "metadata": {},
   "outputs": [],
   "source": [
    "import numpy as np\n",
    "import matplotlib.pyplot as plt"
   ]
  },
  {
   "cell_type": "code",
   "execution_count": 19,
   "id": "2fddb73b",
   "metadata": {},
   "outputs": [],
   "source": [
    "from tqdm.notebook import tqdm"
   ]
  },
  {
   "cell_type": "markdown",
   "id": "5a5b3868",
   "metadata": {},
   "source": [
    "Создаём данные для задачи. Задаём дикий дисбаланс классов."
   ]
  },
  {
   "cell_type": "code",
   "execution_count": 20,
   "id": "4b5e3126",
   "metadata": {},
   "outputs": [],
   "source": [
    "X, y = datasets.make_classification(n_samples=10000, weights=[0.15])"
   ]
  },
  {
   "cell_type": "markdown",
   "id": "c628a01b",
   "metadata": {},
   "source": [
    "Делим данные на три части.\n",
    "Используя базовую модель (в данном случае это KNN) оцениваем точность и ошибку калибровки вероятностей на тестовом наборе данных."
   ]
  },
  {
   "cell_type": "code",
   "execution_count": 21,
   "id": "448521fc",
   "metadata": {},
   "outputs": [],
   "source": [
    "X_train, X_test, y_train, y_test = train_test_split(X, y, stratify=y, train_size=0.66)\n",
    "X_train, X_valid, y_train, y_valid = train_test_split(X_train, y_train, stratify=y_train, train_size=0.5)"
   ]
  },
  {
   "cell_type": "code",
   "execution_count": 22,
   "id": "6d61267a",
   "metadata": {},
   "outputs": [
    {
     "name": "stdout",
     "output_type": "stream",
     "text": [
      "accuracy = 0.928235294117647\n"
     ]
    }
   ],
   "source": [
    "clf = KNeighborsClassifier()\n",
    "clf.fit(X_train, y_train)\n",
    "accuracy = np.mean(clf.predict(X_test) == y_test)\n",
    "\n",
    "print(f\"accuracy = {accuracy}\")"
   ]
  },
  {
   "cell_type": "code",
   "execution_count": 23,
   "id": "c251d3ae",
   "metadata": {
    "code_folding": [
     1,
     8,
     64,
     81
    ]
   },
   "outputs": [],
   "source": [
    "class ProbabilityCalibrationTree(object):\n",
    "    def __init__(self, fitted_estimator):\n",
    "        self.fitted_estimator = fitted_estimator\n",
    "        self.path = None\n",
    "        self.ccp_alphas = None\n",
    "        self.impurities = None\n",
    "        self.trees = []\n",
    "    \n",
    "    def fit(self, X_train, y_train, X_valid, y_valid, X_test, y_test):\n",
    "        # переобучаем дерево - неограничивая его глубину и число наблюдений в листьях\n",
    "        overfitted_tree = DecisionTreeClassifier()\n",
    "        overfitted_tree.fit(X_train, y_train)\n",
    "        \n",
    "        # определяем всевозможные варианты стрижки\n",
    "        self.path = overfitted_tree.cost_complexity_pruning_path(X_train, y_train)\n",
    "        self.ccp_alphas, self.impurities = self.path.ccp_alphas, self.path.impurities\n",
    "        \n",
    "        # проходим по всем вариантам стриженных деревьев\n",
    "        for ccp_alpha in tqdm(self.ccp_alphas):\n",
    "            tree = DecisionTreeClassifier(ccp_alpha=ccp_alpha)\n",
    "            tree.fit(X_train, y_train)\n",
    "            \n",
    "            # пропускаем по дереву валидационную выборку для обучения логистической регрессии в листьях\n",
    "            indexes = tree.tree_.apply(X_valid.astype(np.float32))\n",
    "            nodes = np.unique(indexes)\n",
    "\n",
    "            proba = self.fitted_estimator.predict_proba(X_valid)[:, 1].reshape(-1, 1)\n",
    "\n",
    "            leaves_regressions = {}\n",
    "            if_any_singular_leaf = False\n",
    "\n",
    "            # обучаем логистическую регрессию в каждом листе\n",
    "            for node in nodes:\n",
    "                # контролируем чтобы в листьях были оба класса\n",
    "                if len(np.unique(y_valid[indexes==node])) == 1: \n",
    "                    if_any_singular_leaf = True\n",
    "                    break\n",
    "                \n",
    "                # калибруем данные в листе логистической регрессией\n",
    "                leaf_regression = LogisticRegression()\n",
    "                leaf_regression.fit(proba[indexes==node], y_valid[indexes==node])\n",
    "                leaves_regressions[node] = leaf_regression\n",
    "\n",
    "            # если хотябы в одном листе дерева не оба класса, дерево пропускаем\n",
    "            if if_any_singular_leaf: \n",
    "                continue\n",
    "            \n",
    "            # иначе сохраняем дерево, его характеристики и результаты калибровки тестового набора\n",
    "            tree_parameters = {\"tree\": tree,\n",
    "                               \"leaves_regressions\": leaves_regressions,\n",
    "                               \"nodes\": nodes,\n",
    "                               \"ccp_alpha\": ccp_alpha,\n",
    "                               \"tree_depth\": tree.get_depth()}\n",
    "            \n",
    "            # результаты калибровки тестового набора, откалиброванная точность, ошибка и доли 1 класса для \n",
    "            # построения графика reliability\n",
    "            data = self.calibrate(tree_parameters, X_test, y_test)\n",
    "            tree_parameters[\"ece\"] = data[0]\n",
    "            tree_parameters[\"p_bins\"] = data[1]\n",
    "            tree_parameters[\"y_bins\"] = data[2]\n",
    "            tree_parameters[\"accuracy\"] = data[3]\n",
    "            self.trees.append(tree_parameters)\n",
    "        return None\n",
    "\n",
    "    def calibrate(self, tree_parameters, X_test, y_test):\n",
    "        # пропускаем через откалиброванное дерево тестовые данные и возвращаем результаты калибовки\n",
    "        indexes = tree_parameters[\"tree\"].tree_.apply(X_test.astype(np.float32))\n",
    "        nodes = np.unique(indexes)\n",
    "        proba = self.fitted_estimator.predict_proba(X_test)[:, 1].reshape(-1, 1)\n",
    "\n",
    "        calibrated = np.zeros_like(proba)\n",
    "        regressions = tree_parameters[\"leaves_regressions\"]\n",
    "\n",
    "        for node in tree_parameters[\"nodes\"]:\n",
    "            calibrated[indexes==node] = regressions[node].predict_proba(proba[indexes==node])[:, 1].reshape(-1, 1)\n",
    "        \n",
    "        accuracy = np.mean(np.where(calibrated.reshape(-1) < 0.5, 0, 1) == y_test)\n",
    "        ece, p_bins, y_bins = ProbabilityCalibrationTree.evaluate_ece(calibrated.reshape(-1), y_test)\n",
    "        return (ece, p_bins, y_bins, accuracy)\n",
    "    \n",
    "    @staticmethod\n",
    "    def evaluate_ece(calibrated, y_test, n_bins=20):\n",
    "        # метод ля оценки ошибки - expected calibration error и расчёта долей 1 класса\n",
    "        ece = 0\n",
    "        index = np.argsort(calibrated)\n",
    "        p_bins = []\n",
    "        y_bins = []\n",
    "        amount = []\n",
    "\n",
    "        step = int(len(y_test) / n_bins)\n",
    "\n",
    "        for i in range(n_bins):\n",
    "            start = i * step\n",
    "            end   = (i + 1) * step\n",
    "\n",
    "            p_bins.append(np.mean(calibrated[index[start: end]]))\n",
    "            y_bins.append(np.mean(y_test[index[start: end]]))\n",
    "            amount.append(step)\n",
    "\n",
    "            ece += amount[i] * (np.abs(np.array(p_bins[i]) - np.array(y_bins[i])))\n",
    "        \n",
    "        ece /= len(y_test)\n",
    "        return ece, p_bins, y_bins\n",
    "    \n",
    "    @staticmethod\n",
    "    def plot_reliability(p_bins, y_bins, title):\n",
    "        # метод для построения диаграммы reliability\n",
    "        plt.figure(figsize=(3, 3))\n",
    "        plt.title(title)\n",
    "        plt.plot(p_bins, y_bins, \"o\")\n",
    "        plt.plot([0, 1], [0, 1], \"k--\")\n",
    "        plt.xlabel(\"predicted 1st class proba\")\n",
    "        plt.ylabel(\"actual 1st class ratio\")\n",
    "#         plt.savefig(\"reliability.png\", transparent=False, bbox_inches=\"tight\") \n",
    "        plt.show()"
   ]
  },
  {
   "cell_type": "code",
   "execution_count": 24,
   "id": "ac9f5964",
   "metadata": {},
   "outputs": [],
   "source": [
    "proba = clf.predict_proba(X_test)[:, 1]\n",
    "\n",
    "ece, p_bins, y_bins = ProbabilityCalibrationTree.evaluate_ece(proba, y_test)"
   ]
  },
  {
   "cell_type": "markdown",
   "id": "6f42a1fd",
   "metadata": {},
   "source": [
    "Итак. Ошибка калибровки (ece), точность базовой модели (accuracy) и диаграмма reliability (достоверности) для базовой модели."
   ]
  },
  {
   "cell_type": "code",
   "execution_count": 25,
   "id": "00ad9c59",
   "metadata": {},
   "outputs": [
    {
     "name": "stdout",
     "output_type": "stream",
     "text": [
      "KNeighborsClassifier()\n"
     ]
    },
    {
     "data": {
      "image/png": "[encoded data removed]",
      "text/plain": [
       "<Figure size 216x216 with 1 Axes>"
      ]
     },
     "metadata": {
      "needs_background": "light"
     },
     "output_type": "display_data"
    }
   ],
   "source": [
    "print(clf)\n",
    "title = f\"ece = {round(ece, 3)}, not calibrated accuracy = {round(accuracy, 3)}\"\n",
    "ProbabilityCalibrationTree.plot_reliability(p_bins, y_bins, title)"
   ]
  },
  {
   "cell_type": "markdown",
   "id": "d1eb0659",
   "metadata": {},
   "source": [
    "Далее калибруем вероятности, используя дерево. Дерево изначально переобучаем (не используем регулиризацию - глубину и т.п.) на тренировочном наборе. Определяем всевозможные пути стрижки дерева (параметр - ccp_alpha). Для каждого варианта стрижки калибруем валидационный набор в листьях логистической регрессией."
   ]
  },
  {
   "cell_type": "markdown",
   "id": "c29a9874",
   "metadata": {},
   "source": [
    "Используем все три набора данных."
   ]
  },
  {
   "cell_type": "code",
   "execution_count": null,
   "id": "e1d03875",
   "metadata": {},
   "outputs": [
    {
     "data": {
      "application/vnd.jupyter.widget-view+json": {
       "model_id": "be0398745dcd463d8d31ec823b95e0ae",
       "version_major": 2,
       "version_minor": 0
      },
      "text/plain": [
       "  0%|          | 0/35 [00:00<?, ?it/s]"
      ]
     },
     "metadata": {},
     "output_type": "display_data"
    }
   ],
   "source": [
    "pct = ProbabilityCalibrationTree(clf)\n",
    "pct.fit(X_train, y_train, X_valid, y_valid, X_test, y_test)"
   ]
  },
  {
   "cell_type": "markdown",
   "id": "fabb1c91",
   "metadata": {},
   "source": [
    "Делаем контроль на данных, которые дерево не видело."
   ]
  },
  {
   "cell_type": "code",
   "execution_count": null,
   "id": "e5c57fb0",
   "metadata": {
    "code_folding": [
     3
    ],
    "scrolled": true
   },
   "outputs": [],
   "source": [
    "eces = []\n",
    "scores = []\n",
    "\n",
    "for item in pct.trees:\n",
    "    eces.append(str(round(item[\"ece\"], 3)))\n",
    "    scores.append(round(item[\"accuracy\"], 3))\n",
    "    \n",
    "    ccp_alpha = str(round(item[\"ccp_alpha\"], 4))\n",
    "    \n",
    "    title = f\"ece = {eces[-1]}, calibrated accuracy = {scores[-1]}, ccp_alpha = {ccp_alpha}\"\n",
    "    ProbabilityCalibrationTree.plot_reliability(item[\"p_bins\"], item[\"y_bins\"], title)"
   ]
  },
  {
   "cell_type": "markdown",
   "id": "3fc73dbe",
   "metadata": {},
   "source": [
    "Ошибка калибровки меньше, точность прогноза выше по сравнению с базовой моделью. Здорово! Плохо лишь то, что данные пришлось делить на три части."
   ]
  },
  {
   "cell_type": "code",
   "execution_count": null,
   "id": "fda3cd40",
   "metadata": {},
   "outputs": [],
   "source": [
    "print(f\"minimal ece = {min(eces)}, maximum accuracy = {max(scores)}\")"
   ]
  },
  {
   "cell_type": "markdown",
   "id": "aa0f0fdc",
   "metadata": {},
   "source": [
    "Но, оказывается, деревья калибровки также можно переобучить. Для этого логистическую регрессию в узлах тоже обучаем на тренировочном наборе данных."
   ]
  },
  {
   "cell_type": "code",
   "execution_count": null,
   "id": "43f1809a",
   "metadata": {},
   "outputs": [],
   "source": [
    "pct = ProbabilityCalibrationTree(clf)\n",
    "pct.fit(X_train, y_train, X_train, y_train, X_test, y_test)"
   ]
  },
  {
   "cell_type": "markdown",
   "id": "9fe76bcb",
   "metadata": {},
   "source": [
    "Делаем контроль на данных, которые дерево не видело."
   ]
  },
  {
   "cell_type": "code",
   "execution_count": null,
   "id": "ea44cf77",
   "metadata": {
    "code_folding": [
     3
    ],
    "scrolled": true
   },
   "outputs": [],
   "source": [
    "eces = []\n",
    "scores = []\n",
    "\n",
    "for item in pct.trees:\n",
    "    eces.append(str(round(item[\"ece\"], 3)))\n",
    "    scores.append(round(item[\"accuracy\"], 3))\n",
    "    \n",
    "    ccp_alpha = str(round(item[\"ccp_alpha\"], 4))\n",
    "    \n",
    "    title = f\"ece = {eces[-1]}, calibrated accuracy = {scores[-1]}, ccp_alpha = {ccp_alpha}\"\n",
    "    ProbabilityCalibrationTree.plot_reliability(item[\"p_bins\"], item[\"y_bins\"], title)"
   ]
  },
  {
   "cell_type": "markdown",
   "id": "17bedacb",
   "metadata": {},
   "source": [
    "Результаты тоже неплохие. Т.е. данные можно делить на два набора а не на три!!!"
   ]
  },
  {
   "cell_type": "code",
   "execution_count": null,
   "id": "ed627a2f",
   "metadata": {},
   "outputs": [],
   "source": [
    "print(f\"minimal ece = {min(eces)}, maximum accuracy = {max(scores)}\")"
   ]
  },
  {
   "cell_type": "markdown",
   "id": "1b221117",
   "metadata": {},
   "source": [
    "Конец"
   ]
  }
 ],
 "metadata": {
  "kernelspec": {
   "display_name": "Python 3 (ipykernel)",
   "language": "python",
   "name": "python3"
  },
  "language_info": {
   "codemirror_mode": {
    "name": "ipython",
    "version": 3
   },
   "file_extension": ".py",
   "mimetype": "text/x-python",
   "name": "python",
   "nbconvert_exporter": "python",
   "pygments_lexer": "ipython3",
   "version": "3.8.3"
  },
  "toc": {
   "base_numbering": 1,
   "nav_menu": {},
   "number_sections": true,
   "sideBar": true,
   "skip_h1_title": false,
   "title_cell": "Table of Contents",
   "title_sidebar": "Contents",
   "toc_cell": false,
   "toc_position": {},
   "toc_section_display": true,
   "toc_window_display": false
  },
  "varInspector": {
   "cols": {
    "lenName": 16,
    "lenType": 16,
    "lenVar": 40
   },
   "kernels_config": {
    "python": {
     "delete_cmd_postfix": "",
     "delete_cmd_prefix": "del ",
     "library": "var_list.py",
     "varRefreshCmd": "print(var_dic_list())"
    },
    "r": {
     "delete_cmd_postfix": ") ",
     "delete_cmd_prefix": "rm(",
     "library": "var_list.r",
     "varRefreshCmd": "cat(var_dic_list()) "
    }
   },
   "types_to_exclude": [
    "module",
    "function",
    "builtin_function_or_method",
    "instance",
    "_Feature"
   ],
   "window_display": false
  }
 },
 "nbformat": 4,
 "nbformat_minor": 5
}
